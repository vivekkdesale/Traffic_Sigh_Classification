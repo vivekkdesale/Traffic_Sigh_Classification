{
 "cells": [
  {
   "cell_type": "code",
   "execution_count": 1,
   "id": "a4f8d343",
   "metadata": {},
   "outputs": [],
   "source": [
    "## Importing the Required Liabries\n",
    "\n",
    "import numpy as np\n",
    "import pandas as pd\n",
    "import matplotlib.pyplot as plt\n",
    "import cv2\n",
    "import tensorflow as tf\n",
    "from PIL import Image\n",
    "import os\n",
    "os.chdir('D:\\Projects\\Traffic_Sign_Recognition\\GTRSB')   # Data set location (Dataset is not available in same path where this python file is created hence imported from this path)\n",
    "from sklearn.model_selection import train_test_split\n",
    "from tensorflow.keras.utils import to_categorical\n",
    "from keras.layers import Dense\n",
    "from keras.models import Sequential, load_model\n",
    "from keras.layers import Conv2D, MaxPool2D, Flatten, Dropout"
   ]
  },
  {
   "cell_type": "code",
   "execution_count": 2,
   "id": "a2c49856",
   "metadata": {},
   "outputs": [],
   "source": [
    "## Data and Labels stored in List\n",
    "\n",
    "data =[]                                    # Create empty list : data\n",
    "labels = []                                 # Create empty list : labels\n",
    "classes =43                                 # we have 43 classes for classification\n",
    "cur_path = os.getcwd()                      # it returns working directory path(CWD-Current Working Directory) where data is saved."
   ]
  },
  {
   "cell_type": "code",
   "execution_count": 3,
   "id": "9d08bd6d",
   "metadata": {},
   "outputs": [],
   "source": [
    "## Image Preprocessing\n",
    "\n",
    "for i in range(classes):                            # This loop iterates 43 times\n",
    "    path = os.path.join(cur_path,'train',str(i))    # Open and iterate folders from 'train' folder\n",
    "    images = os.listdir(path)  \n",
    "    for a in images:\n",
    "        try:             \n",
    "            image = Image.open(path +'\\\\'+ a)       # Open image          \n",
    "            image = image.resize((30,30))           # Resize image to 30*30 - best for neural network feeding                                          \n",
    "            image =np.array(image)                  # Convert image into array \n",
    "            data.append(image)                      # Append this image array data into list named data\n",
    "            labels.append(i)                        # Append labels to all image\n",
    "        except Exception as e:\n",
    "            print(e)"
   ]
  },
  {
   "cell_type": "code",
   "execution_count": 4,
   "id": "ae67fd80",
   "metadata": {},
   "outputs": [
    {
     "name": "stdout",
     "output_type": "stream",
     "text": [
      "(39209, 30, 30, 3) (39209,)\n"
     ]
    }
   ],
   "source": [
    "## Conversion of Lists into numpy arrays            \n",
    "\n",
    "data = np.array(data)                               # Convert data list into array\n",
    "labels = np.array(labels)                           # Convert labels list into array\n",
    "print(data.shape, labels.shape)                     # Display shape ofimage  data and labels arrays.\n",
    "                                                    # Both needs to be same"
   ]
  },
  {
   "cell_type": "code",
   "execution_count": 5,
   "id": "a2ad5b47",
   "metadata": {},
   "outputs": [],
   "source": [
    "## Create Directory training in provided path\n",
    "#os.mkdir('training')                               #--This can be created only once so comment it whenever you rerun.\n",
    "\n",
    "                                                    # Save Data to Data and Target folders for future use.\n",
    "\n",
    "np.save('./training/data',data)                     # Save image data \n",
    "np.save('./training/target',labels)                 # Save image labels"
   ]
  },
  {
   "cell_type": "code",
   "execution_count": 6,
   "id": "b06f9392",
   "metadata": {},
   "outputs": [],
   "source": [
    "## load data and labels to training folder\n",
    "\n",
    "data=np.load('./training/data.npy')                # Load saved image data \n",
    "labels=np.load('./training/target.npy')            # Load saved labels data"
   ]
  },
  {
   "cell_type": "code",
   "execution_count": 7,
   "id": "2ef01788",
   "metadata": {},
   "outputs": [
    {
     "name": "stdout",
     "output_type": "stream",
     "text": [
      "(39209, 30, 30, 3) (39209,)\n"
     ]
    }
   ],
   "source": [
    "## Check size of data and labels.\n",
    "print(data.shape, labels.shape)                   # Display size of data and labels"
   ]
  },
  {
   "cell_type": "code",
   "execution_count": 8,
   "id": "86622520",
   "metadata": {},
   "outputs": [],
   "source": [
    "## Split the dataset for Training and Testing\n",
    "X_train, X_test, y_train, y_test = train_test_split(data, labels, test_size=0.2,random_state=0) # Training and testing splitting (here 80/20 ratio) - from 'sklearn'"
   ]
  },
  {
   "cell_type": "code",
   "execution_count": 9,
   "id": "eeff47b2",
   "metadata": {},
   "outputs": [
    {
     "name": "stdout",
     "output_type": "stream",
     "text": [
      "(31367, 30, 30, 3) (7842, 30, 30, 3) (31367,) (7842,)\n"
     ]
    }
   ],
   "source": [
    "## Check the size of Training and Testing.\n",
    "print(X_train.shape, X_test.shape, y_train.shape, y_test.shape)      # X train and y train shape should be same, x test and y test shape should be same."
   ]
  },
  {
   "cell_type": "code",
   "execution_count": 10,
   "id": "293980c4",
   "metadata": {},
   "outputs": [],
   "source": [
    "## Convert Labels to One-Hot Encoding\n",
    "y_train = to_categorical(y_train,43)  # One hot encoding to y train\n",
    "y_test = to_categorical(y_test,43)    # One hot encoding to y test"
   ]
  },
  {
   "cell_type": "code",
   "execution_count": 11,
   "id": "da1c475f",
   "metadata": {},
   "outputs": [],
   "source": [
    "## Build a Model.\n",
    "model = Sequential()\n",
    "model.add(Conv2D(filters=32, kernel_size=(5,5), activation='relu',input_shape=X_train.shape[1:])) #  Fitting and convolution of neural network\n",
    "model.add(Conv2D(filters=32, kernel_size=(5,5), activation='relu'))\n",
    "model.add(MaxPool2D(pool_size=(2,2)))\n",
    "model.add(Dropout(rate=0.25))\n",
    "model.add(Conv2D(filters=64, kernel_size=(5,5), activation='relu'))\n",
    "model.add(Conv2D(filters=64, kernel_size=(5,5), activation='relu'))\n",
    "model.add(MaxPool2D(pool_size=(2,2)))\n",
    "model.add(Dropout(rate=0.25))\n",
    "model.add(Flatten())\n",
    "model.add(Dense(256,activation='relu'))\n",
    "model.add(Dropout(rate=0.5))\n",
    "model.add(Dense(43,activation='softmax'))  # We have 43 classes hence we have defined 43 in dense."
   ]
  },
  {
   "cell_type": "code",
   "execution_count": 12,
   "id": "a4302383",
   "metadata": {},
   "outputs": [],
   "source": [
    "## Complation of Model\n",
    "\n",
    "model.compile(loss='categorical_crossentropy', optimizer='adam', metrics=['accuracy']) # Compiling model and get loss and accuracy of model"
   ]
  },
  {
   "cell_type": "code",
   "execution_count": 13,
   "id": "0a26429d",
   "metadata": {},
   "outputs": [
    {
     "name": "stdout",
     "output_type": "stream",
     "text": [
      "Epoch 1/20\n",
      "981/981 [==============================] - 79s 79ms/step - loss: 2.4107 - accuracy: 0.3345 - val_loss: 1.0147 - val_accuracy: 0.7221\n",
      "Epoch 2/20\n",
      "981/981 [==============================] - 80s 82ms/step - loss: 1.0273 - accuracy: 0.6987 - val_loss: 0.4833 - val_accuracy: 0.8571\n",
      "Epoch 3/20\n",
      "981/981 [==============================] - 76s 78ms/step - loss: 0.6709 - accuracy: 0.8041 - val_loss: 0.4474 - val_accuracy: 0.8650\n",
      "Epoch 4/20\n",
      "981/981 [==============================] - 79s 81ms/step - loss: 0.5476 - accuracy: 0.8372 - val_loss: 0.3232 - val_accuracy: 0.8966\n",
      "Epoch 5/20\n",
      "981/981 [==============================] - 76s 78ms/step - loss: 0.4995 - accuracy: 0.8551 - val_loss: 0.2427 - val_accuracy: 0.9235\n",
      "Epoch 6/20\n",
      "981/981 [==============================] - 81s 82ms/step - loss: 0.4041 - accuracy: 0.8800 - val_loss: 0.2261 - val_accuracy: 0.9331\n",
      "Epoch 7/20\n",
      "981/981 [==============================] - 78s 80ms/step - loss: 0.3941 - accuracy: 0.8862 - val_loss: 0.1644 - val_accuracy: 0.9591\n",
      "Epoch 8/20\n",
      "981/981 [==============================] - 78s 79ms/step - loss: 0.3655 - accuracy: 0.8962 - val_loss: 0.2429 - val_accuracy: 0.9362\n",
      "Epoch 9/20\n",
      "981/981 [==============================] - 78s 79ms/step - loss: 0.3370 - accuracy: 0.9051 - val_loss: 0.1981 - val_accuracy: 0.9475\n",
      "Epoch 10/20\n",
      "981/981 [==============================] - 85s 87ms/step - loss: 0.3028 - accuracy: 0.9180 - val_loss: 0.1262 - val_accuracy: 0.9658\n",
      "Epoch 11/20\n",
      "981/981 [==============================] - 85s 87ms/step - loss: 0.3306 - accuracy: 0.9146 - val_loss: 0.2596 - val_accuracy: 0.9334\n",
      "Epoch 12/20\n",
      "981/981 [==============================] - 79s 80ms/step - loss: 0.2958 - accuracy: 0.9234 - val_loss: 0.1260 - val_accuracy: 0.9686\n",
      "Epoch 13/20\n",
      "981/981 [==============================] - 80s 82ms/step - loss: 0.2834 - accuracy: 0.9289 - val_loss: 0.1476 - val_accuracy: 0.9630\n",
      "Epoch 14/20\n",
      "981/981 [==============================] - 78s 79ms/step - loss: 0.2997 - accuracy: 0.9271 - val_loss: 0.1138 - val_accuracy: 0.9711\n",
      "Epoch 15/20\n",
      "981/981 [==============================] - 80s 82ms/step - loss: 0.2631 - accuracy: 0.9336 - val_loss: 0.0969 - val_accuracy: 0.9758\n",
      "Epoch 16/20\n",
      "981/981 [==============================] - 76s 78ms/step - loss: 0.2854 - accuracy: 0.9295 - val_loss: 0.1266 - val_accuracy: 0.9681\n",
      "Epoch 17/20\n",
      "981/981 [==============================] - 79s 80ms/step - loss: 0.2484 - accuracy: 0.9392 - val_loss: 0.1002 - val_accuracy: 0.9753\n",
      "Epoch 18/20\n",
      "981/981 [==============================] - 88s 90ms/step - loss: 0.2446 - accuracy: 0.9375 - val_loss: 0.2041 - val_accuracy: 0.9559\n",
      "Epoch 19/20\n",
      "981/981 [==============================] - 79s 81ms/step - loss: 0.3016 - accuracy: 0.9298 - val_loss: 0.1152 - val_accuracy: 0.9759\n",
      "Epoch 20/20\n",
      "981/981 [==============================] - 79s 80ms/step - loss: 0.2873 - accuracy: 0.9348 - val_loss: 0.0957 - val_accuracy: 0.9749\n"
     ]
    }
   ],
   "source": [
    "## CNN for Model\n",
    "\n",
    "epochs = 20\n",
    "history = model.fit(X_train, y_train, batch_size=32,epochs=epochs, validation_data=(X_test, y_test))"
   ]
  },
  {
   "cell_type": "code",
   "execution_count": 14,
   "id": "326da06c",
   "metadata": {},
   "outputs": [
    {
     "data": {
      "image/png": "[encoded data removed]",
      "text/plain": [
       "<Figure size 432x288 with 1 Axes>"
      ]
     },
     "metadata": {
      "needs_background": "light"
     },
     "output_type": "display_data"
    }
   ],
   "source": [
    " ## Plot Accuracy Graph\n",
    "plt.figure(0)\n",
    "plt.plot(history.history['accuracy'], label='training accuracy')\n",
    "plt.plot(history.history['val_accuracy'], label='val accuracy')\n",
    "plt.title('Accuracy')\n",
    "plt.xlabel('epochs')\n",
    "plt.ylabel('accuracy')\n",
    "plt.legend()\n",
    "plt.show()"
   ]
  },
  {
   "cell_type": "code",
   "execution_count": 15,
   "id": "38c94f9e",
   "metadata": {},
   "outputs": [
    {
     "name": "stderr",
     "output_type": "stream",
     "text": [
      "<ipython-input-15-6621336fb6e7>:2: MatplotlibDeprecationWarning: Case-insensitive properties were deprecated in 3.3 and support will be removed two minor releases later\n",
      "  plt.plot(history.history['loss'],Label ='training loss')\n",
      "<ipython-input-15-6621336fb6e7>:3: MatplotlibDeprecationWarning: Case-insensitive properties were deprecated in 3.3 and support will be removed two minor releases later\n",
      "  plt.plot(history.history['val_loss'],Label ='val loss')\n"
     ]
    },
    {
     "data": {
      "image/png": "[encoded data removed]",
      "text/plain": [
       "<Figure size 432x288 with 1 Axes>"
      ]
     },
     "metadata": {
      "needs_background": "light"
     },
     "output_type": "display_data"
    }
   ],
   "source": [
    "## Plot Loss Graph\n",
    "plt.plot(history.history['loss'],Label ='training loss')\n",
    "plt.plot(history.history['val_loss'],Label ='val loss')\n",
    "plt.title('Loss')\n",
    "plt.xlabel('epochs')\n",
    "plt.ylabel('loss')\n",
    "plt.legend()\n",
    "plt.show()"
   ]
  },
  {
   "cell_type": "code",
   "execution_count": 16,
   "id": "42d02869",
   "metadata": {},
   "outputs": [],
   "source": [
    "## Testing on Test Data\n",
    "\n",
    "def testing(testcsv):\n",
    "    y_test = pd.read_csv(testcsv)              # Read csv file\n",
    "    label = y_test[\"ClassId\"].values           # define label\n",
    "    imgs = y_test[\"Path\"].values               # define images\n",
    "    data=[]                                    # create empty list named data\n",
    "    for img in imgs:\n",
    "        image = Image.open(img)                # open image into  \n",
    "        image = image.resize((30,30))          # resize imgage into 30*30 \n",
    "        data.append(np.array(image))           # append data label \n",
    "    X_test=np.array(data)                      # Converting data into array X test.\n",
    "    return X_test, label                       # Return x_test and label"
   ]
  },
  {
   "cell_type": "code",
   "execution_count": 17,
   "id": "97c89891",
   "metadata": {},
   "outputs": [],
   "source": [
    "## Load Test.csv file \n",
    "X_test, label = testing('Test.csv')          # Call function of testing with Load test.csv file \n"
   ]
  },
  {
   "cell_type": "code",
   "execution_count": 18,
   "id": "82551ff6",
   "metadata": {},
   "outputs": [
    {
     "data": {
      "text/plain": [
       "array([16,  1, 38, ...,  3,  7, 10], dtype=int64)"
      ]
     },
     "execution_count": 18,
     "metadata": {},
     "output_type": "execute_result"
    }
   ],
   "source": [
    "predict_Y=model.predict(X_test)                # Predict classes and store it in _pred\n",
    "Y_pred = np.argmax(predict_Y,axis=1)\n",
    "Y_pred"
   ]
  },
  {
   "cell_type": "code",
   "execution_count": 19,
   "id": "1b690de0",
   "metadata": {},
   "outputs": [
    {
     "name": "stdout",
     "output_type": "stream",
     "text": [
      "0.9350752177355502\n"
     ]
    }
   ],
   "source": [
    "## Check the Accuracy with Test Data.\n",
    "\n",
    "from sklearn.metrics import accuracy_score\n",
    "print(accuracy_score(label, Y_pred))           # Display/ Print accuracy score"
   ]
  },
  {
   "cell_type": "code",
   "execution_count": 10,
   "id": "f05cf483",
   "metadata": {},
   "outputs": [],
   "source": [
    "## Save The Model\n",
    "\n",
    "model.save(\"training/TSR.h5\")           # Save model to training folder into h5 format. So, no need to create model once again."
   ]
  },
  {
   "cell_type": "code",
   "execution_count": 5,
   "id": "363f8cb9",
   "metadata": {},
   "outputs": [],
   "source": [
    "## Load the Model\n",
    "import os\n",
    "os.chdir(r'D:\\Projects\\Traffic_Sign_Recognition\\GTRSB')   # Change directory of Data Path\n",
    "from keras.models import load_model\n",
    "model = load_model('./training/TSR.h5')"
   ]
  },
  {
   "cell_type": "code",
   "execution_count": 6,
   "id": "a5f438e6",
   "metadata": {},
   "outputs": [],
   "source": [
    "# Define dictionary - Classes of trafic signs\n",
    "\n",
    "classes = { 0:'Speed limit (20km/h)',\n",
    "            1:'Speed limit (30km/h)',\n",
    "            2:'Speed limit (50km/h)',\n",
    "            3:'Speed limit (60km/h)',\n",
    "            4:'Speed limit (70km/h)',\n",
    "            5:'Speed limit (80km/h)',\n",
    "            6:'End of speed limit (80km/h)',\n",
    "            7:'Speed limit (100km/h)',\n",
    "            8:'Speed limit (120km/h)',\n",
    "            9:'No passing',\n",
    "            10:'No passing veh over 3.5 tons',\n",
    "            11:'Right-of-way at intersection',\n",
    "            12:'Priority road',\n",
    "            13:'Yield',\n",
    "            14:'Stop',\n",
    "            15:'No vehicles',\n",
    "            16:'Vehicle > 3.5 tons prohibited',\n",
    "            17:'No entry',\n",
    "            18:'General caution',\n",
    "            19:'Dangerous curve left',\n",
    "            20:'Dangerous curve right',\n",
    "            21:'Double curve',\n",
    "            22:'Bumpy road',\n",
    "            23:'Slippery road',\n",
    "            24:'Road narrows on the right',\n",
    "            25:'Road work',\n",
    "            26:'Traffic signals',\n",
    "            27:'Pedestrians',\n",
    "            28:'Children crossing',\n",
    "            29:'Bicycles crossing',\n",
    "            30:'Beware of ice/snow',\n",
    "            31:'Wild animals crossing',\n",
    "            32:'End speed + passing limits',\n",
    "            33:'Turn right ahead',\n",
    "            34:'Turn left ahead',\n",
    "            35:'Ahead only',\n",
    "            36:'Go straight or right',\n",
    "            37:'Go straight or left',\n",
    "            38:'Keep right',\n",
    "            39:'Keep left',\n",
    "            40:'Roundabout mandatory',\n",
    "            41:'End of no passing',\n",
    "            42:'End no passing vehicle > 3.5 tons' }"
   ]
  },
  {
   "cell_type": "code",
   "execution_count": 11,
   "id": "7966123e",
   "metadata": {},
   "outputs": [],
   "source": [
    "from PIL import Image\n",
    "import numpy as np\n",
    "import matplotlib.pyplot as plt\n",
    "\n",
    "def test_on_img(img):\n",
    "    data=[]\n",
    "    image = Image.open(img)\n",
    "    image = image.resize((30,30))\n",
    "    data.append(np.array(image))\n",
    "    X_test = np.array(data)\n",
    "    predict_Y=model.predict(X_test)                # Predict classes and store it in _pred\n",
    "    Y_pred = np.argmax(predict_Y,axis=1)\n",
    "    Y_pred\n",
    "    return image, Y_pred\n"
   ]
  },
  {
   "cell_type": "code",
   "execution_count": 16,
   "id": "d96ad389",
   "metadata": {},
   "outputs": [
    {
     "name": "stdout",
     "output_type": "stream",
     "text": [
      "Predicted Traffic sign is :  Keep right\n"
     ]
    },
    {
     "data": {
      "image/png": "[encoded data removed]",
      "text/plain": [
       "<Figure size 432x288 with 1 Axes>"
      ]
     },
     "metadata": {
      "needs_background": "light"
     },
     "output_type": "display_data"
    }
   ],
   "source": [
    "plot, prediction = test_on_img(r'D:\\Projects\\Traffic_Sign_Recognition\\GTRSB\\test\\00002.png')\n",
    "s = [str(i) for i in prediction]\n",
    "a = int(\"\".join(s))\n",
    "print(\"Predicted Traffic sign is : \", classes[a])\n",
    "plt.imshow(plot)\n",
    "plt.show()\n"
   ]
  },
  {
   "cell_type": "code",
   "execution_count": null,
   "id": "25183059",
   "metadata": {},
   "outputs": [],
   "source": []
  }
 ],
 "metadata": {
  "kernelspec": {
   "display_name": "Python 3",
   "language": "python",
   "name": "python3"
  },
  "language_info": {
   "codemirror_mode": {
    "name": "ipython",
    "version": 3
   },
   "file_extension": ".py",
   "mimetype": "text/x-python",
   "name": "python",
   "nbconvert_exporter": "python",
   "pygments_lexer": "ipython3",
   "version": "3.8.8"
  }
 },
 "nbformat": 4,
 "nbformat_minor": 5
}
